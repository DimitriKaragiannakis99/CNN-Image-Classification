{
 "cells": [
  {
   "cell_type": "markdown",
   "metadata": {},
   "source": [
    "### Simple Data Loading"
   ]
  },
  {
   "cell_type": "code",
   "execution_count": 8,
   "metadata": {},
   "outputs": [
    {
     "name": "stdout",
     "output_type": "stream",
     "text": [
      "Categories:  ['gland', 'nongland', 'tumor']\n",
      "Number of Samples:  6000\n",
      "Number of Samples in Train Set:  4200\n",
      "Number of Samples in Test Set:  1800\n"
     ]
    }
   ],
   "source": [
    "# Importing Libraries\n",
    "import torch as th\n",
    "import torch.nn as nn\n",
    "import torch.nn.functional as F\n",
    "from torchvision import datasets, transforms\n",
    "import numpy as np\n",
    "import matplotlib.pyplot as plt\n",
    "\n",
    "# Set up the transformations here\n",
    "our_transform = transforms.Compose([\n",
    "    transforms.Resize((224,224)),\n",
    "    transforms.ToTensor(),\n",
    "])\n",
    "\n",
    "# Loading Data\n",
    "dataset = datasets.ImageFolder('Data/Prostate Cancer',transform= our_transform)\n",
    "\n",
    "# Splitting Data\n",
    "train_set,test_set=th.utils.data.random_split(dataset,[0.7,0.3]) \n",
    "\n",
    "# Create data loaders\n",
    "train_loader=th.utils.data.DataLoader(train_set,shuffle=True,batch_size=32) \n",
    "test_loader=th.utils.data.DataLoader(test_set,batch_size=32)  \n",
    "\n",
    "# Print Data for Debugging\n",
    "print(\"Categories: \",dataset.classes)\n",
    "print(\"Number of Samples: \",len(dataset))\n",
    "print(\"Number of Samples in Train Set: \",len(train_set))\n",
    "print(\"Number of Samples in Test Set: \",len(test_set))"
   ]
  }
 ],
 "metadata": {
  "kernelspec": {
   "display_name": "Python 3",
   "language": "python",
   "name": "python3"
  },
  "language_info": {
   "codemirror_mode": {
    "name": "ipython",
    "version": 3
   },
   "file_extension": ".py",
   "mimetype": "text/x-python",
   "name": "python",
   "nbconvert_exporter": "python",
   "pygments_lexer": "ipython3",
   "version": "3.12.7"
  }
 },
 "nbformat": 4,
 "nbformat_minor": 2
}
