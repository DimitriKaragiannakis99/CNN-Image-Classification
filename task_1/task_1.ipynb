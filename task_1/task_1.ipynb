{
 "cells": [
  {
   "cell_type": "markdown",
   "metadata": {},
   "source": [
    "<h2> Importing Necessary Libraries </h2>"
   ]
  },
  {
   "cell_type": "code",
   "execution_count": 5,
   "metadata": {},
   "outputs": [],
   "source": [
    "# Utilities\n",
    "import os\n",
    "import time  # Performance tracking\n",
    "\n",
    "# Data Manipulation\n",
    "import numpy as np\n",
    "\n",
    "# Visualization\n",
    "import matplotlib.pyplot as plt\n",
    "\n",
    "# Machine Learning\n",
    "from sklearn.manifold import TSNE\n",
    "from tqdm import tqdm  #Progress bars\n",
    "\n",
    "# PyTorch Modules\n",
    "import torch\n",
    "from torch import nn, optim  \n",
    "from torch.utils.data import DataLoader, Dataset  \n",
    "from torchvision import models, transforms  \n",
    "from torchvision.datasets import ImageFolder\n"
   ]
  },
  {
   "cell_type": "markdown",
   "metadata": {},
   "source": [
    "<h2> Data Pre-Processing and Loading </h2>"
   ]
  },
  {
   "cell_type": "code",
   "execution_count": null,
   "metadata": {},
   "outputs": [],
   "source": [
    "# Data Transformations\n",
    "transform = transforms.Compose([\n",
    "    transforms.Resize((224, 224)),  # Architecture requires 224x224\n",
    "    transforms.ToTensor(),\n",
    "    transforms.Normalize(mean=[0.485, 0.456, 0.406], std=[0.229, 0.224, 0.225])  # ImageNet normalization values\n",
    "])\n",
    "\n",
    "# Load Data\n",
    "data_dir = '../Data/Sample Test Dataset (Prostate Cancer)/Prostate Cancer'\n",
    "dataset = ImageFolder(root=data_dir, transform=transform)\n",
    "\n",
    "# Train/Test Split\n",
    "train_size = int(0.7 * len(dataset))\n",
    "test_size = len(dataset) - train_size\n",
    "train_dataset, test_dataset = torch.utils.data.random_split(dataset, [train_size, test_size])\n",
    "\n",
    "# DataLoaders (Batch Size 32 is the most optmial batch size)\n",
    "train_loader = DataLoader(train_dataset, batch_size=32, shuffle=True, num_workers=4)\n",
    "test_loader = DataLoader(test_dataset, batch_size=32, shuffle=False, num_workers=4)"
   ]
  },
  {
   "cell_type": "markdown",
   "metadata": {},
   "source": [
    "<h2> Model Intilization and Setup </h2>"
   ]
  },
  {
   "cell_type": "code",
   "execution_count": 16,
   "metadata": {},
   "outputs": [],
   "source": [
    "device = torch.device(\"cuda\" if torch.cuda.is_available() else \"cpu\")\n",
    "\n",
    "model = models.resnet50(weights=None) #Training from Scratch\n",
    "\n",
    "#We need to modify the final layer such that it is three classes\n",
    "num_classes = len(dataset.classes)  # Number of classes in the dataset\n",
    "model.fc = nn.Linear(model.fc.in_features, num_classes)\n",
    "model.to(device)\n",
    "\n",
    "#Hyperparameters (previously tested)\n",
    "num_epochs = 10\n",
    "lr = 0.001\n",
    "\n",
    "# Define Loss Function and Optimizer\n",
    "criterion = nn.CrossEntropyLoss()\n",
    "optimizer = optim.Adam(model.parameters(), lr=lr)\n",
    "\n",
    "# Add Learning Rate Scheduler\n",
    "scheduler = optim.lr_scheduler.StepLR(optimizer, step_size=5, gamma=0.1)"
   ]
  },
  {
   "cell_type": "markdown",
   "metadata": {},
   "source": [
    "<h2> Training and Testing the Model </h2>"
   ]
  },
  {
   "cell_type": "code",
   "execution_count": null,
   "metadata": {},
   "outputs": [],
   "source": [
    "train_acc, test_acc, train_loss, test_loss = [], [], [], []\n",
    "\n",
    "training_start_time = time()\n",
    "\n",
    "for epoch in range(num_epochs):\n",
    "    epoch_start_time = time()\n",
    "    \n",
    "    # Training phase\n",
    "    model.train()\n",
    "    running_loss, running_corrects = 0.0, 0\n",
    "    for inputs, labels in tqdm(train_loader, desc=f\"Training Epoch {epoch+1}/{num_epochs}\", leave=False):\n",
    "        inputs, labels = inputs.to(device), labels.to(device)\n",
    "\n",
    "        optimizer.zero_grad()\n",
    "        outputs = model(inputs)\n",
    "        loss = criterion(outputs, labels)\n",
    "        loss.backward()\n",
    "        optimizer.step()\n",
    "\n",
    "        # Update training metrics\n",
    "        _, preds = torch.max(outputs, 1)\n",
    "        running_loss += loss.item() * inputs.size(0)\n",
    "        running_corrects += torch.sum(preds == labels.data)\n",
    "\n",
    "    epoch_loss = running_loss / len(train_dataset)\n",
    "    epoch_acc = running_corrects.double() / len(train_dataset)\n",
    "    train_loss.append(epoch_loss)\n",
    "    train_acc.append(epoch_acc.item())\n",
    "\n",
    "    # Testing phase\n",
    "    model.eval()\n",
    "    running_loss, running_corrects = 0.0, 0\n",
    "    with torch.no_grad():\n",
    "        for inputs, labels in test_loader:\n",
    "            inputs, labels = inputs.to(device), labels.to(device)\n",
    "            outputs = model(inputs)\n",
    "            loss = criterion(outputs, labels)\n",
    "\n",
    "            # Update testing metrics\n",
    "            _, preds = torch.max(outputs, 1)\n",
    "            running_loss += loss.item() * inputs.size(0)\n",
    "            running_corrects += torch.sum(preds == labels.data)\n",
    "\n",
    "    epoch_loss = running_loss / len(test_dataset)\n",
    "    epoch_acc = running_corrects.double() / len(test_dataset)\n",
    "    test_loss.append(epoch_loss)\n",
    "    test_acc.append(epoch_acc.item())\n",
    "\n",
    "    # Step the scheduler\n",
    "    scheduler.step()\n",
    "\n",
    "    print(f\"Epoch {epoch+1}/{num_epochs}, \"\n",
    "          f\"Train Loss: {train_loss[-1]:.4f}, Train Acc: {train_acc[-1]:.4f}, \"\n",
    "          f\"Test Loss: {test_loss[-1]:.4f}, Test Acc: {test_acc[-1]:.4f}\")\n",
    "    print(f'Elapsed time for epoch {epoch+1}: {(time() - epoch_start_time):.2f} seconds')\n",
    "\n",
    "print(f'Elapsed time for training model {(time() - training_start_time):.2f} seconds')"
   ]
  },
  {
   "cell_type": "markdown",
   "metadata": {},
   "source": [
    "<h2> T-SNE Visualization </h2>"
   ]
  },
  {
   "cell_type": "code",
   "execution_count": null,
   "metadata": {},
   "outputs": [],
   "source": [
    "features, labels_list = [], []\n",
    "model.eval()\n",
    "with torch.no_grad():\n",
    "    for inputs, labels in train_loader:\n",
    "        inputs = inputs.to(device)\n",
    "        outputs = model(inputs)\n",
    "\n",
    "        # Extract features before the final layer\n",
    "        features.append(outputs.cpu())\n",
    "        labels_list.append(labels)\n",
    "\n",
    "features = torch.cat(features).numpy()\n",
    "labels_list = torch.cat(labels_list).numpy()\n",
    "\n",
    "# Apply t-SNE\n",
    "tsne = TSNE(n_components=2, random_state=42)\n",
    "features_2d = tsne.fit_transform(features)\n",
    "\n",
    "# Plot t-SNE Results\n",
    "plt.figure(figsize=(10, 8))\n",
    "plt.scatterplot(\n",
    "    x=features_2d[:, 0], y=features_2d[:, 1], hue=labels_list, palette='viridis', legend='full'\n",
    ")\n",
    "plt.title(\"t-SNE Visualization of ResNet-50 Features\")\n",
    "plt.xlabel(\"t-SNE Dimension 1\")\n",
    "plt.ylabel(\"t-SNE Dimension 2\")\n",
    "plt.show()"
   ]
  },
  {
   "cell_type": "markdown",
   "metadata": {},
   "source": [
    "<h2> Saving The Model </h2>\n",
    "<p> Commented out since we already saved it </p>"
   ]
  },
  {
   "cell_type": "code",
   "execution_count": null,
   "metadata": {},
   "outputs": [],
   "source": [
    "# Uncomment to save the model\n",
    "# os.makedirs('task_1', exist_ok=True)\n",
    "# model_save_path = 'task_1/resnet50_colorectal.pth'\n",
    "# torch.save(model.state_dict(), model_save_path)\n",
    "# print(f\"Model saved to {model_save_path}\")"
   ]
  }
 ],
 "metadata": {
  "kernelspec": {
   "display_name": "Python 3",
   "language": "python",
   "name": "python3"
  },
  "language_info": {
   "codemirror_mode": {
    "name": "ipython",
    "version": 3
   },
   "file_extension": ".py",
   "mimetype": "text/x-python",
   "name": "python",
   "nbconvert_exporter": "python",
   "pygments_lexer": "ipython3",
   "version": "3.12.2"
  }
 },
 "nbformat": 4,
 "nbformat_minor": 2
}
